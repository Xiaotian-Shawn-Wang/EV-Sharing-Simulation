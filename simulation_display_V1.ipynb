{
 "cells": [
  {
   "cell_type": "code",
   "execution_count": 1,
   "metadata": {},
   "outputs": [],
   "source": [
    "# Update:\n",
    "# added more parameter controls.\n",
    "# testing on github"
   ]
  },
  {
   "cell_type": "code",
   "execution_count": 2,
   "metadata": {},
   "outputs": [
    {
     "name": "stdout",
     "output_type": "stream",
     "text": [
      "importing Jupyter notebook from Node_xiaotian_V10.ipynb\n"
     ]
    }
   ],
   "source": [
    "import import_ipynb\n",
    "from simulation_structure_V1 import *\n",
    "import ipywidgets as widgets\n",
    "\n",
    "import io\n",
    "import pandas as pd"
   ]
  },
  {
   "cell_type": "code",
   "execution_count": 3,
   "metadata": {},
   "outputs": [],
   "source": [
    "from ipywidgets import interact, HBox, VBox,interactive_output\n",
    "from IPython.display import HTML\n",
    "import numpy as np\n",
    "import io\n",
    "import base64"
   ]
  },
  {
   "cell_type": "code",
   "execution_count": 4,
   "metadata": {},
   "outputs": [],
   "source": [
    "# arrange plot layout\n",
    "# source:https://stackoverflow.com/questions/21754976/ipython-notebook-arrange-plots-horizontally\n",
    "\n",
    "class FlowLayout(object):\n",
    "    ''' A class / object to display plots in a horizontal / flow layout below a cell '''\n",
    "    def __init__(self):\n",
    "        # string buffer for the HTML: initially some CSS; images to be appended\n",
    "        self.sHtml =  \"\"\"\n",
    "        <style>\n",
    "        .floating-box {\n",
    "        display: inline-block;\n",
    "        margin: 10px;\n",
    "        border: 3px solid #888888;  \n",
    "        }\n",
    "        </style>\n",
    "        \"\"\"\n",
    "\n",
    "    def add_plot(self, oAxes):\n",
    "        ''' Saves a PNG representation of a Matplotlib Axes object '''\n",
    "        Bio=io.BytesIO() # bytes buffer for the plot\n",
    "        fig = oAxes.get_figure()\n",
    "        fig.canvas.print_png(Bio) # make a png of the plot in the buffer\n",
    "\n",
    "        # encode the bytes as string using base 64 \n",
    "        sB64Img = base64.b64encode(Bio.getvalue()).decode()\n",
    "        self.sHtml+= (\n",
    "            '<div class=\"floating-box\">'+ \n",
    "            '<img src=\"data:image/png;base64,{}\\n\">'.format(sB64Img)+\n",
    "            '</div>')\n",
    "\n",
    "    def PassHtmlToCell(self):\n",
    "        ''' Final step - display the accumulated HTML '''\n",
    "        display(HTML(self.sHtml))\n",
    "        "
   ]
  },
  {
   "cell_type": "markdown",
   "metadata": {},
   "source": [
    "## Set inputs\n",
    "##### Units: distance:km;  time:min"
   ]
  },
  {
   "cell_type": "markdown",
   "metadata": {},
   "source": [
    "##### policy_para_1: if the number of EVs exceeds capacity*policy_para_1, then relocation happens."
   ]
  },
  {
   "cell_type": "code",
   "execution_count": 5,
   "metadata": {},
   "outputs": [],
   "source": [
    "def set_inputs(station_loca,demand,zoom,max_soc,horizon_len,time_interval_len,consumption_rate,\n",
    "              charging_rate,rtr):\n",
    "    global md,nw\n",
    "    time_interval_num=math.ceil(horizon_len/time_interval_len)\n",
    "\n",
    "    try:\n",
    "        # read station locations\n",
    "        data =pd.read_csv(io.BytesIO(station_loca[[*station_loca][0]][\"content\"]))\n",
    "        station_location=[]\n",
    "        station_capacity=[]\n",
    "        station_initial_ev_num=[]\n",
    "        for i in range(len(data)):\n",
    "            station_location.append([data['Latitude'][i],data['Longitude'][i]]) \n",
    "            station_capacity.append(data['capacity'][i])\n",
    "            station_initial_ev_num.append(data['starting_EV_amount'][i])\n",
    "        ave_occupancy=sum(station_initial_ev_num)/sum(station_capacity)\n",
    "    except:\n",
    "        print('\\033[91m'+'upload a .csv file for station locations. example:'+'\\x1b[0m')\n",
    "        \n",
    "    try:\n",
    "        # read demand\n",
    "        d_data=pd.read_csv(io.BytesIO(demand[[*demand][0]][\"content\"]))\n",
    "        demand_dic={}\n",
    "        for i in range(len(d_data)):\n",
    "            demand_dic[d_data['origin'][i],d_data['destination'][i],d_data['period'][i]]=d_data['amount'][i]\n",
    "        \n",
    "        md=MapDisplay(station_location,zoom)\n",
    "        \n",
    "        # obtain distance matrix\n",
    "        distance_2={}\n",
    "        for i in range(md.station_num):\n",
    "            for j in range(md.station_num):\n",
    "                distance_2[i,j]=math.ceil(md.distance_matrix[i][j]/time_interval_num)\n",
    "        \n",
    "        targeting_occupancy=ave_occupancy\n",
    "        nw=Network(station_location,distance_2,max_soc,time_interval_num,consumption_rate,charging_rate,station_capacity,500,demand_dic,[rtr,targeting_occupancy])\n",
    "        nw.deploy_vehicle(station_initial_ev_num)\n",
    "        nw.run()\n",
    "        md.take_sim_result(nw.sim_result,nw.max_soc)\n",
    "        # add click event\n",
    "        md.show_station_status()\n",
    "    except:\n",
    "        print('\\033[91m'+'upload a .csv file for demands. example:'+'\\x1b[0m')\n"
   ]
  },
  {
   "cell_type": "code",
   "execution_count": 6,
   "metadata": {},
   "outputs": [
    {
     "data": {
      "application/vnd.jupyter.widget-view+json": {
       "model_id": "fbc30c77bd2d4337b97c7dd9d21b88b5",
       "version_major": 2,
       "version_minor": 0
      },
      "text/plain": [
       "VBox(children=(HBox(children=(FileUpload(value={}, accept='.csv', description='location file'), FileUpload(val…"
      ]
     },
     "metadata": {},
     "output_type": "display_data"
    },
    {
     "data": {
      "application/vnd.jupyter.widget-view+json": {
       "model_id": "01cebd0191314d6297d88f3f44c25bf1",
       "version_major": 2,
       "version_minor": 0
      },
      "text/plain": [
       "Output()"
      ]
     },
     "metadata": {},
     "output_type": "display_data"
    }
   ],
   "source": [
    "station_loca_file=widgets.FileUpload(\n",
    "                description='location file',\n",
    "                accept='.csv',\n",
    "                multiple=False  # True to accept multiple files upload else False\n",
    "                            )\n",
    "demand_file=widgets.FileUpload(\n",
    "                description='demand file',\n",
    "                accept='.csv',  \n",
    "                multiple=False \n",
    "                            )\n",
    "zoom_level=widgets.IntSlider(min=1,max=16,step=1,value=13,description='zoom')\n",
    "max_soc=widgets.IntSlider(min=1,max=15,step=1,value=7,description='max state of charge',\n",
    "                         style = {'description_width': 'initial'})\n",
    "horizon_len=widgets.IntSlider(min=1,max=24,step=1,value=10,description='operation_horizon_length(hour)',\n",
    "                          style = {'description_width': 'initial'})\n",
    "time_interval_len=widgets.FloatSlider(min=0.1,max=24,step=0.1,value=1.0,description='time_interval_length(hour)',\n",
    "                          style = {'description_width': 'initial'})\n",
    "consumption_rate=widgets.IntSlider(min=1,max=5,step=1,value=2,description='battery comsumption rate',\n",
    "                          style = {'description_width': 'initial'})\n",
    "charging_rate=widgets.IntSlider(min=1,max=5,step=1,value=1,description='battery charging rate',\n",
    "                          style = {'description_width': 'initial'})\n",
    "relocation_trigger_ratio=widgets.FloatSlider(min=0.1,max=1.0,step=0.1,value=0.8,description='policy_para_1',\n",
    "                          style = {'description_width': 'initial'})\n",
    "box_row_1=HBox([station_loca_file,demand_file])\n",
    "box_row_2=HBox([horizon_len,zoom_level])\n",
    "box_row_3=HBox([time_interval_len,max_soc])\n",
    "box_row_4=HBox([consumption_rate,charging_rate])\n",
    "box_row_5=HBox([relocation_trigger_ratio])\n",
    "ui_map=VBox([box_row_1,box_row_2,box_row_3,box_row_4,box_row_5])\n",
    "out_map=interactive_output(set_inputs,{'station_loca':station_loca_file,'demand':demand_file,'zoom':zoom_level,\n",
    "                                       'max_soc':max_soc,'horizon_len':horizon_len,'time_interval_len':time_interval_len,\n",
    "                                      'consumption_rate':consumption_rate,'charging_rate':charging_rate,\n",
    "                                      'rtr':relocation_trigger_ratio})\n",
    "display(ui_map,out_map)\n"
   ]
  },
  {
   "cell_type": "markdown",
   "metadata": {},
   "source": [
    "#### Click a station to show index; Then specify time and station to show simulation results"
   ]
  },
  {
   "cell_type": "code",
   "execution_count": 7,
   "metadata": {
    "scrolled": true
   },
   "outputs": [],
   "source": [
    "# show node information\n",
    "def node_info(t,station):\n",
    "    oPlot = FlowLayout() # create an empty FlowLayout\n",
    "    try:\n",
    "#         nw.show_route(t,1,0)\n",
    "#         nw.show_node(t,nw.stations[1])\n",
    "#         nw.show_map(t)\n",
    "#         nw.show_node_histogram(t,nw.stations[1])\n",
    "        md.show_station_status(t) # this is needed to update popup info\n",
    "        ax_1=nw.show_node(t,nw.stations[station])\n",
    "        \n",
    "        plt.savefig('show_node.png')\n",
    "        \n",
    "        plt.close() # close the figure directly plot by calling nw methods\n",
    "        ax_2=nw.show_node_histogram(t,nw.stations[station])\n",
    "        \n",
    "        plt.savefig('show_histogram.png')\n",
    "        \n",
    "        plt.close()\n",
    "        oPlot.add_plot(ax_1)\n",
    "        oPlot.add_plot(ax_2)\n",
    "        oPlot.PassHtmlToCell()\n",
    "    except:\n",
    "        print('\\033[91m'+'error in station index'+'\\x1b[0m')"
   ]
  },
  {
   "cell_type": "code",
   "execution_count": 8,
   "metadata": {},
   "outputs": [],
   "source": [
    "# md.m.save('my_map.html', title='My Map')"
   ]
  },
  {
   "cell_type": "code",
   "execution_count": 9,
   "metadata": {},
   "outputs": [
    {
     "data": {
      "application/vnd.jupyter.widget-view+json": {
       "model_id": "285ef1a4840a4f4a8ca8de35ed4e6466",
       "version_major": 2,
       "version_minor": 0
      },
      "text/plain": [
       "HBox(children=(IntSlider(value=0, description='t', max=9), BoundedIntText(value=10000000000, description='Stat…"
      ]
     },
     "metadata": {},
     "output_type": "display_data"
    },
    {
     "data": {
      "application/vnd.jupyter.widget-view+json": {
       "model_id": "01f11e191c0b41b391bfe92114e5e6a8",
       "version_major": 2,
       "version_minor": 0
      },
      "text/plain": [
       "Output()"
      ]
     },
     "metadata": {},
     "output_type": "display_data"
    }
   ],
   "source": [
    "t_slider = widgets.IntSlider(min=0,max=9,step=1,value=0,description='t')\n",
    "station_IntText=widgets.BoundedIntText(\n",
    "    value=1e10,\n",
    "    min=0,\n",
    "    max=1e10,\n",
    "    step=1,\n",
    "    description='Station',\n",
    "    disabled=False\n",
    ")\n",
    "ui_node=HBox([t_slider,station_IntText])\n",
    "out_node=interactive_output(node_info,{'t':t_slider,'station':station_IntText})\n",
    "display(ui_node,out_node)"
   ]
  },
  {
   "cell_type": "markdown",
   "metadata": {},
   "source": [
    "#### Route information between two stations"
   ]
  },
  {
   "cell_type": "code",
   "execution_count": 10,
   "metadata": {},
   "outputs": [],
   "source": [
    "def route_info(t,origin,destination):\n",
    "#     ax_1=nw.show_route(t,origin,destination)\n",
    "#     plt.close()\n",
    "# #     fig=ax_1.get_figure()\n",
    "    try:\n",
    "        if origin<=md.station_num-1 and destination<=md.station_num-1:\n",
    "            nw.show_route(t,origin,destination)\n",
    "            \n",
    "            plt.xlabel('from station 4 to station 1')\n",
    "            plt.savefig('show_route.png')\n",
    "            \n",
    "        else:\n",
    "            print('\\033[91m'+'error in station index'+'\\x1b[0m')\n",
    "\n",
    "    except:\n",
    "        print('\\033[91m'+'error in station index'+'\\x1b[0m')"
   ]
  },
  {
   "cell_type": "code",
   "execution_count": 11,
   "metadata": {
    "scrolled": true
   },
   "outputs": [
    {
     "data": {
      "application/vnd.jupyter.widget-view+json": {
       "model_id": "0ab2a9648c3c4284a7e438181be112ee",
       "version_major": 2,
       "version_minor": 0
      },
      "text/plain": [
       "HBox(children=(BoundedIntText(value=10000000000, description='Origin station', max=10000000000, style=Descript…"
      ]
     },
     "metadata": {},
     "output_type": "display_data"
    },
    {
     "data": {
      "application/vnd.jupyter.widget-view+json": {
       "model_id": "3957832125634fc1a6dde9dd2207230f",
       "version_major": 2,
       "version_minor": 0
      },
      "text/plain": [
       "Output()"
      ]
     },
     "metadata": {},
     "output_type": "display_data"
    }
   ],
   "source": [
    "origin_IntText=widgets.BoundedIntText(\n",
    "    value=1e10,\n",
    "    min=0,\n",
    "    max=1e10,\n",
    "    step=1,\n",
    "    description='Origin station',\n",
    "    style = {'description_width': 'initial'},\n",
    "    disabled=False\n",
    ")\n",
    "destination_IntText=widgets.BoundedIntText(\n",
    "    value=1e10,\n",
    "    min=0,\n",
    "    max=1e10,\n",
    "    step=1,\n",
    "    description='Destination station',\n",
    "    style = {'description_width': 'initial'},\n",
    "    disabled=False\n",
    ")\n",
    "out_route=interactive_output(route_info,{'t':t_slider,'origin':origin_IntText,'destination':destination_IntText})\n",
    "# use the same time slider, but not to display it. \n",
    "ui_route=HBox([origin_IntText,destination_IntText])\n",
    "display(ui_route,out_route)"
   ]
  }
 ],
 "metadata": {
  "kernelspec": {
   "display_name": "Python 3",
   "language": "python",
   "name": "python3"
  },
  "language_info": {
   "codemirror_mode": {
    "name": "ipython",
    "version": 3
   },
   "file_extension": ".py",
   "mimetype": "text/x-python",
   "name": "python",
   "nbconvert_exporter": "python",
   "pygments_lexer": "ipython3",
   "version": "3.6.10"
  }
 },
 "nbformat": 4,
 "nbformat_minor": 4
}
