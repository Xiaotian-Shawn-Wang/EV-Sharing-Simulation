{
 "cells": [
  {
   "cell_type": "markdown",
   "metadata": {},
   "source": [
    "Prerequisite:\n",
    "Packages: csv, import_ipynb, ipyleaflet, ipywidgets, matplotlib, numpy, pandas. \n",
    "\n",
    "To run the simulation, launch WebApp_V5 and upload data files about station locations and demands. Please refer to files in \"Data\" folder for the data format.\n",
    "To have a clean web-application view, click the \"Voila\" tab in the tool bar.\n",
    "\n",
    "The project includes three files:\n",
    "Node_xiaotian_V10.ipynb\tstructure definition\n",
    "WebApp_V5.ipynb\t\tinput; output\n",
    "Sampling0616.py\t\tdemand sampling\n",
    "\n",
    "Use the \"Station_info.cvs\" for station information.\n",
    "\n"
   ]
  }
 ],
 "metadata": {
  "kernelspec": {
   "display_name": "Python 3",
   "language": "python",
   "name": "python3"
  },
  "language_info": {
   "codemirror_mode": {
    "name": "ipython",
    "version": 3
   },
   "file_extension": ".py",
   "mimetype": "text/x-python",
   "name": "python",
   "nbconvert_exporter": "python",
   "pygments_lexer": "ipython3",
   "version": "3.6.10"
  }
 },
 "nbformat": 4,
 "nbformat_minor": 4
}
